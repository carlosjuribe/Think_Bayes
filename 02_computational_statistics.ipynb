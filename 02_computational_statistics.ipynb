{
 "cells": [
  {
   "cell_type": "markdown",
   "metadata": {},
   "source": [
    "# Chapter 2: \n",
    "___"
   ]
  },
  {
   "cell_type": "markdown",
   "metadata": {},
   "source": [
    "### Distributions"
   ]
  },
  {
   "cell_type": "code",
   "execution_count": 1,
   "metadata": {},
   "outputs": [],
   "source": [
    "from thinkbayes import Pmf  # supporting library of the book"
   ]
  },
  {
   "cell_type": "code",
   "execution_count": 2,
   "metadata": {},
   "outputs": [],
   "source": [
    "pmf = Pmf()  # creates an empty probability mass function\n",
    "\n",
    "for x in range(1, 7):\n",
    "    pmf.Set(x, 1/6.0)  # assigns a probability to a value"
   ]
  },
  {
   "cell_type": "code",
   "execution_count": 3,
   "metadata": {},
   "outputs": [
    {
     "data": {
      "text/plain": [
       "[1, 2, 3, 4, 5, 6]"
      ]
     },
     "execution_count": 3,
     "metadata": {},
     "output_type": "execute_result"
    }
   ],
   "source": [
    "list(pmf.keys())"
   ]
  },
  {
   "cell_type": "code",
   "execution_count": 4,
   "metadata": {},
   "outputs": [],
   "source": [
    "pmf = Pmf()\n",
    "\n",
    "for w in 'hello how are you my friend truth is you are pretty my friend'.split():\n",
    "    pmf.Incr(w, 1)  # increases \"probability\" associated with each word by 1.\n",
    "                    # actually it is the frequency (a non-normalized probability)"
   ]
  },
  {
   "cell_type": "code",
   "execution_count": 7,
   "metadata": {},
   "outputs": [
    {
     "data": {
      "text/plain": [
       "2"
      ]
     },
     "execution_count": 7,
     "metadata": {},
     "output_type": "execute_result"
    }
   ],
   "source": [
    "pmf.Prob('you')  # returns the frequecy of the word"
   ]
  },
  {
   "cell_type": "code",
   "execution_count": 8,
   "metadata": {},
   "outputs": [
    {
     "data": {
      "text/plain": [
       "13"
      ]
     },
     "execution_count": 8,
     "metadata": {},
     "output_type": "execute_result"
    }
   ],
   "source": [
    "pmf.Normalize()"
   ]
  },
  {
   "cell_type": "code",
   "execution_count": 9,
   "metadata": {},
   "outputs": [
    {
     "data": {
      "text/plain": [
       "0.15384615384615385"
      ]
     },
     "execution_count": 9,
     "metadata": {},
     "output_type": "execute_result"
    }
   ],
   "source": [
    "pmf.Prob('you')  # returns the probability of the word"
   ]
  },
  {
   "cell_type": "markdown",
   "metadata": {},
   "source": [
    "In the context of Bayesianism, it is natural to use a PMF to map a hypothesis to its probability.\n",
    "\n",
    "PMF \\ $ H_i => P(H_i)$"
   ]
  },
  {
   "cell_type": "markdown",
   "metadata": {},
   "source": [
    "### The cookie problem"
   ]
  },
  {
   "cell_type": "code",
   "execution_count": 10,
   "metadata": {},
   "outputs": [],
   "source": [
    "# info bowl 1: number of cookies per type\n",
    "vanillas_b1 = 30\n",
    "chocos_b1 = 10\n",
    "\n",
    "# info bowl 2: number of cookies per type\n",
    "vanillas_b2 = 20\n",
    "chocos_b2 = 20\n",
    "\n",
    "# 1) knowledge: I take a bowl at random, from which I take a cookie at random\n",
    "# 2) New data: A vanilla cookie came out.\n",
    "\n",
    "# 3) Inference: What is the probability that the vanilla cookie came from bowl 1?"
   ]
  },
  {
   "cell_type": "markdown",
   "metadata": {},
   "source": [
    "In the cookie problem we have 2 hypothesis: \n",
    "- $H_1$ : vanilla cookie from bowl 1\n",
    "- $H_2$ : vanilla cookie from bowl 2"
   ]
  },
  {
   "cell_type": "code",
   "execution_count": 33,
   "metadata": {},
   "outputs": [],
   "source": [
    "pmf = Pmf()\n",
    "# encode the prior distributions (before we know what cookie came out)\n",
    "pmf.Set('Bowl_1', 0.5)  # H1\n",
    "pmf.Set('Bowl_2', 0.5)  # H2"
   ]
  },
  {
   "cell_type": "markdown",
   "metadata": {},
   "source": [
    "To update the prior distribution based on **new data** (i.e., we got a vanilla cookie) we multiply each prior by its corresponding **likelihood**:"
   ]
  },
  {
   "cell_type": "code",
   "execution_count": 34,
   "metadata": {},
   "outputs": [
    {
     "name": "stdout",
     "output_type": "stream",
     "text": [
      "Likelihood vanilla cookie from bowl 1: 0.75\n",
      "Likelihood vanilla cookie from bowl 2: 0.5\n"
     ]
    }
   ],
   "source": [
    "tag_VANILLA = \"vanilla\"\n",
    "tag_CHOCOLATE = \"chocolate\"\n",
    "\n",
    "likelihood_H1 = vanillas_b1 / (vanillas_b1 + chocos_b1)\n",
    "likelihood_H2 = vanillas_b2 / (vanillas_b2 + chocos_b2)\n",
    "\n",
    "print(f\"Likelihood vanilla cookie from bowl 1: {likelihood_H1}\")\n",
    "print(f\"Likelihood vanilla cookie from bowl 2: {likelihood_H2}\")\n",
    "\n",
    "pmf.Mult('Bowl_1', likelihood_H1)\n",
    "pmf.Mult('Bowl_2', likelihood_H2)"
   ]
  },
  {
   "cell_type": "markdown",
   "metadata": {},
   "source": [
    "After this update, the distribution is no longer normalized, but since we are dealing with **MECE** hypothesis, we can re-normalize:"
   ]
  },
  {
   "cell_type": "code",
   "execution_count": 35,
   "metadata": {},
   "outputs": [
    {
     "data": {
      "text/plain": [
       "0.625"
      ]
     },
     "execution_count": 35,
     "metadata": {},
     "output_type": "execute_result"
    }
   ],
   "source": [
    "pmf.Normalize()  # should return 0.625"
   ]
  },
  {
   "cell_type": "markdown",
   "metadata": {},
   "source": [
    "The result is a distribution that contains the **posterior probability** for each hypothesis:"
   ]
  },
  {
   "cell_type": "code",
   "execution_count": 37,
   "metadata": {},
   "outputs": [
    {
     "data": {
      "text/plain": [
       "(0.6000000000000001, 0.4)"
      ]
     },
     "execution_count": 37,
     "metadata": {},
     "output_type": "execute_result"
    }
   ],
   "source": [
    "pmf.Prob('Bowl_1'), pmf.Prob('Bowl_2')"
   ]
  },
  {
   "cell_type": "markdown",
   "metadata": {},
   "source": [
    "Let's rewrite the previous code with classes, to make it more general:"
   ]
  },
  {
   "cell_type": "code",
   "execution_count": 38,
   "metadata": {},
   "outputs": [],
   "source": [
    "class Cookie(Pmf):\n",
    "    \"\"\" \n",
    "    PMF that maps hypotheses to their probabilities.\n",
    "    Stores the priors and posteriors for each hypothesis given.\n",
    "    \"\"\"\n",
    "    def __init__(self, hypos):\n",
    "        \"\"\" Gives each hypothesis the same prior probability \"\"\"\n",
    "        Pmf.__init__(self)\n",
    "        for hypo in hypos:\n",
    "            self.Set(hypo, 1)\n",
    "        self.Normalize()"
   ]
  },
  {
   "cell_type": "code",
   "execution_count": 39,
   "metadata": {},
   "outputs": [],
   "source": [
    "# We have 2 hypotheses:\n",
    "hypos = ['bowl_1', 'bowl_2']\n",
    "\n",
    "pmf = Cookie(hypos)"
   ]
  },
  {
   "cell_type": "code",
   "execution_count": 40,
   "metadata": {},
   "outputs": [
    {
     "data": {
      "text/plain": [
       "{'bowl_1': 0.5, 'bowl_2': 0.5}"
      ]
     },
     "execution_count": 40,
     "metadata": {},
     "output_type": "execute_result"
    }
   ],
   "source": [
    "pmf.GetDict()"
   ]
  },
  {
   "cell_type": "code",
   "execution_count": 41,
   "metadata": {},
   "outputs": [],
   "source": [
    "class Cookie(Pmf):\n",
    "    \"\"\" \n",
    "    PMF that maps hypotheses to their probabilities.\n",
    "    Stores the priors and posteriors for each hypothesis given.\n",
    "    :param hypos:\n",
    "    \"\"\"\n",
    "    mixes = {\n",
    "        'bowl_1': {tag_VANILLA: likelihood_H1, tag_CHOCOLATE:1 - likelihood_H1},\n",
    "        'bowl_2': {tag_VANILLA: likelihood_H2, tag_CHOCOLATE:1 - likelihood_H2}\n",
    "    }\n",
    "    def __init__(self, hypos):\n",
    "        \"\"\"\n",
    "        Gives each hypothesis the same prior probability \n",
    "        :param hypos: sequence of string bowl IDs\n",
    "        \"\"\"\n",
    "        Pmf.__init__(self)\n",
    "        for hypo in hypos:\n",
    "            self.Set(hypo, 1)\n",
    "        self.Normalize()\n",
    "        \n",
    "    def Likelihood(self, data, hypo):\n",
    "        \"\"\" \n",
    "        Returns likelihood of obtaning 'data' given that 'hypo' is true\n",
    "        :param data: string cookie type\n",
    "        :param hypo: string bowl ID\n",
    "        \"\"\"\n",
    "        mix = self.mixes.get(hypo)  # from H, get mix of cookies for bowl of that H\n",
    "        like = mix.get(data)  # get the likelihood of observing the data, if H is true\n",
    "        return like\n",
    "    \n",
    "    def Update(self, data):\n",
    "        \"\"\" \n",
    "        Takes some data and updates the probabilities, looping for each H \n",
    "        :param data: string cookie type\n",
    "        \"\"\"\n",
    "        for hypo in self.Values():\n",
    "            like = self.Likelihood(data, hypo)\n",
    "            self.Mult(hypo, like)\n",
    "        self.Normalize()"
   ]
  },
  {
   "cell_type": "code",
   "execution_count": 42,
   "metadata": {},
   "outputs": [],
   "source": [
    "pmf = Cookie(hypos)\n",
    "\n",
    "new_data = 'vanilla'\n",
    "\n",
    "pmf.Update(data=new_data)"
   ]
  },
  {
   "cell_type": "code",
   "execution_count": 43,
   "metadata": {},
   "outputs": [
    {
     "name": "stdout",
     "output_type": "stream",
     "text": [
      "Posterior for bowl_1 : 0.6000000000000001\n",
      "Posterior for bowl_2 : 0.4\n"
     ]
    }
   ],
   "source": [
    "for hypo, prob in pmf.Items():\n",
    "    print(\"Posterior for\", hypo,\":\", prob)"
   ]
  },
  {
   "cell_type": "markdown",
   "metadata": {},
   "source": [
    "This method has the advantage that it generalizes well to other new data:"
   ]
  },
  {
   "cell_type": "code",
   "execution_count": 44,
   "metadata": {},
   "outputs": [],
   "source": [
    "datapoints = [tag_VANILLA, tag_CHOCOLATE, tag_VANILLA]  # succesive extraction of cookies\n",
    "\n",
    "for p in datapoints:\n",
    "    pmf.Update(p)"
   ]
  },
  {
   "cell_type": "code",
   "execution_count": 45,
   "metadata": {},
   "outputs": [
    {
     "name": "stdout",
     "output_type": "stream",
     "text": [
      "Posterior for bowl_1 : 0.627906976744186\n",
      "Posterior for bowl_2 : 0.37209302325581395\n"
     ]
    }
   ],
   "source": [
    "for hypo, prob in pmf.Items():\n",
    "    print(\"Posterior for\", hypo,\":\", prob)"
   ]
  },
  {
   "cell_type": "markdown",
   "metadata": {},
   "source": [
    "<!-- . -->"
   ]
  },
  {
   "cell_type": "markdown",
   "metadata": {},
   "source": [
    "\n",
    "\n",
    "### The Monty Hall Problem"
   ]
  },
  {
   "cell_type": "code",
   "execution_count": null,
   "metadata": {},
   "outputs": [],
   "source": []
  },
  {
   "cell_type": "code",
   "execution_count": null,
   "metadata": {},
   "outputs": [],
   "source": []
  },
  {
   "cell_type": "code",
   "execution_count": null,
   "metadata": {},
   "outputs": [],
   "source": []
  },
  {
   "cell_type": "code",
   "execution_count": null,
   "metadata": {},
   "outputs": [],
   "source": []
  },
  {
   "cell_type": "code",
   "execution_count": null,
   "metadata": {},
   "outputs": [],
   "source": []
  },
  {
   "cell_type": "code",
   "execution_count": null,
   "metadata": {},
   "outputs": [],
   "source": []
  },
  {
   "cell_type": "code",
   "execution_count": null,
   "metadata": {},
   "outputs": [],
   "source": []
  },
  {
   "cell_type": "code",
   "execution_count": null,
   "metadata": {},
   "outputs": [],
   "source": []
  },
  {
   "cell_type": "code",
   "execution_count": null,
   "metadata": {},
   "outputs": [],
   "source": []
  }
 ],
 "metadata": {
  "kernelspec": {
   "display_name": "Python 3",
   "language": "python",
   "name": "python3"
  },
  "language_info": {
   "codemirror_mode": {
    "name": "ipython",
    "version": 3
   },
   "file_extension": ".py",
   "mimetype": "text/x-python",
   "name": "python",
   "nbconvert_exporter": "python",
   "pygments_lexer": "ipython3",
   "version": "3.7.4"
  }
 },
 "nbformat": 4,
 "nbformat_minor": 4
}
