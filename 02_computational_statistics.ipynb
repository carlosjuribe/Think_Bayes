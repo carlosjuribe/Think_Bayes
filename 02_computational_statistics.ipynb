{
 "cells": [
  {
   "cell_type": "markdown",
   "metadata": {},
   "source": [
    "# Chapter 2: Computational Statistics\n",
    "___"
   ]
  },
  {
   "cell_type": "markdown",
   "metadata": {},
   "source": [
    "### Distributions"
   ]
  },
  {
   "cell_type": "code",
   "execution_count": 1,
   "metadata": {},
   "outputs": [],
   "source": [
    "from thinkbayes import Pmf  # supporting library of the book"
   ]
  },
  {
   "cell_type": "code",
   "execution_count": 2,
   "metadata": {},
   "outputs": [],
   "source": [
    "pmf = Pmf()  # creates an empty probability mass function\n",
    "\n",
    "for x in range(1, 7):\n",
    "    pmf.Set(x, 1/6.0)  # assigns a probability to a value"
   ]
  },
  {
   "cell_type": "code",
   "execution_count": 3,
   "metadata": {},
   "outputs": [
    {
     "data": {
      "text/plain": [
       "[1, 2, 3, 4, 5, 6]"
      ]
     },
     "execution_count": 3,
     "metadata": {},
     "output_type": "execute_result"
    }
   ],
   "source": [
    "list(pmf.keys())"
   ]
  },
  {
   "cell_type": "code",
   "execution_count": 4,
   "metadata": {},
   "outputs": [],
   "source": [
    "pmf = Pmf()\n",
    "\n",
    "for w in 'hello how are you my friend truth is you are pretty my friend'.split():\n",
    "    pmf.Incr(w, 1)  # increases \"probability\" associated with each word by 1.\n",
    "                    # actually it is the frequency (a non-normalized probability)"
   ]
  },
  {
   "cell_type": "code",
   "execution_count": 7,
   "metadata": {},
   "outputs": [
    {
     "data": {
      "text/plain": [
       "2"
      ]
     },
     "execution_count": 7,
     "metadata": {},
     "output_type": "execute_result"
    }
   ],
   "source": [
    "pmf.Prob('you')  # returns the frequecy of the word"
   ]
  },
  {
   "cell_type": "code",
   "execution_count": 8,
   "metadata": {},
   "outputs": [
    {
     "data": {
      "text/plain": [
       "13"
      ]
     },
     "execution_count": 8,
     "metadata": {},
     "output_type": "execute_result"
    }
   ],
   "source": [
    "pmf.Normalize()"
   ]
  },
  {
   "cell_type": "code",
   "execution_count": 9,
   "metadata": {},
   "outputs": [
    {
     "data": {
      "text/plain": [
       "0.15384615384615385"
      ]
     },
     "execution_count": 9,
     "metadata": {},
     "output_type": "execute_result"
    }
   ],
   "source": [
    "pmf.Prob('you')  # returns the probability of the word"
   ]
  },
  {
   "cell_type": "markdown",
   "metadata": {},
   "source": [
    "In the context of Bayesianism, it is natural to use a PMF to map a hypothesis to its probability.\n",
    "\n",
    "PMF \\ $ H_i => P(H_i)$"
   ]
  },
  {
   "cell_type": "markdown",
   "metadata": {},
   "source": [
    "### The cookie problem\n",
    "\n",
    "Suppose there are two bowls full of cookies. Bowl 1 has 30 vanilla cookies and 10 chocolate cookies, while Bowl 2 has 20 of each. If I pick a bowl at random, and then a random cookie from it. It turns out to be a **vanilla** cookie.\n",
    "\n",
    "> What is the probability that it came from Bowl 1?"
   ]
  },
  {
   "cell_type": "code",
   "execution_count": 10,
   "metadata": {},
   "outputs": [],
   "source": [
    "# info bowl 1: number of cookies per type\n",
    "vanillas_b1 = 30\n",
    "chocos_b1 = 10\n",
    "\n",
    "# info bowl 2: number of cookies per type\n",
    "vanillas_b2 = 20\n",
    "chocos_b2 = 20\n",
    "\n",
    "# 1) knowledge: I take a bowl at random, from which I take a cookie at random\n",
    "# 2) New data: A vanilla cookie came out.\n",
    "\n",
    "# 3) Inference: What is the probability that the vanilla cookie came from bowl 1?"
   ]
  },
  {
   "cell_type": "markdown",
   "metadata": {},
   "source": [
    "In the cookie problem we have 2 hypothesis: \n",
    "- $H_1$ : vanilla cookie from bowl 1\n",
    "- $H_2$ : vanilla cookie from bowl 2"
   ]
  },
  {
   "cell_type": "code",
   "execution_count": 33,
   "metadata": {},
   "outputs": [],
   "source": [
    "pmf = Pmf()\n",
    "# encode the prior distributions (before we know what cookie came out)\n",
    "pmf.Set('Bowl_1', 0.5)  # H1\n",
    "pmf.Set('Bowl_2', 0.5)  # H2"
   ]
  },
  {
   "cell_type": "markdown",
   "metadata": {},
   "source": [
    "To update the prior distribution based on **new data** (i.e., we got a vanilla cookie) we multiply each prior by its corresponding **likelihood**:"
   ]
  },
  {
   "cell_type": "code",
   "execution_count": 34,
   "metadata": {},
   "outputs": [
    {
     "name": "stdout",
     "output_type": "stream",
     "text": [
      "Likelihood vanilla cookie from bowl 1: 0.75\n",
      "Likelihood vanilla cookie from bowl 2: 0.5\n"
     ]
    }
   ],
   "source": [
    "tag_VANILLA = \"vanilla\"\n",
    "tag_CHOCOLATE = \"chocolate\"\n",
    "\n",
    "likelihood_H1 = vanillas_b1 / (vanillas_b1 + chocos_b1)\n",
    "likelihood_H2 = vanillas_b2 / (vanillas_b2 + chocos_b2)\n",
    "\n",
    "print(f\"Likelihood vanilla cookie from bowl 1: {likelihood_H1}\")\n",
    "print(f\"Likelihood vanilla cookie from bowl 2: {likelihood_H2}\")\n",
    "\n",
    "pmf.Mult('Bowl_1', likelihood_H1)\n",
    "pmf.Mult('Bowl_2', likelihood_H2)"
   ]
  },
  {
   "cell_type": "markdown",
   "metadata": {},
   "source": [
    "After this update, the distribution is no longer normalized, but since we are dealing with **MECE** hypothesis, we can re-normalize:"
   ]
  },
  {
   "cell_type": "code",
   "execution_count": 35,
   "metadata": {},
   "outputs": [
    {
     "data": {
      "text/plain": [
       "0.625"
      ]
     },
     "execution_count": 35,
     "metadata": {},
     "output_type": "execute_result"
    }
   ],
   "source": [
    "pmf.Normalize()  # should return 0.625"
   ]
  },
  {
   "cell_type": "markdown",
   "metadata": {},
   "source": [
    "The result is a distribution that contains the **posterior probability** for each hypothesis:"
   ]
  },
  {
   "cell_type": "code",
   "execution_count": 37,
   "metadata": {},
   "outputs": [
    {
     "data": {
      "text/plain": [
       "(0.6000000000000001, 0.4)"
      ]
     },
     "execution_count": 37,
     "metadata": {},
     "output_type": "execute_result"
    }
   ],
   "source": [
    "pmf.Prob('Bowl_1'), pmf.Prob('Bowl_2')"
   ]
  },
  {
   "cell_type": "markdown",
   "metadata": {},
   "source": [
    "Let's rewrite the previous code with classes, to make it more general:"
   ]
  },
  {
   "cell_type": "code",
   "execution_count": 38,
   "metadata": {},
   "outputs": [],
   "source": [
    "class Cookie(Pmf):\n",
    "    \"\"\" \n",
    "    PMF that maps hypotheses to their probabilities.\n",
    "    Stores the priors and posteriors for each hypothesis given.\n",
    "    \"\"\"\n",
    "    def __init__(self, hypos):\n",
    "        \"\"\" Gives each hypothesis the same prior probability \"\"\"\n",
    "        Pmf.__init__(self)\n",
    "        for hypo in hypos:\n",
    "            self.Set(hypo, 1)\n",
    "        self.Normalize()"
   ]
  },
  {
   "cell_type": "code",
   "execution_count": 39,
   "metadata": {},
   "outputs": [],
   "source": [
    "# We have 2 hypotheses:\n",
    "hypos = ['bowl_1', 'bowl_2']\n",
    "\n",
    "pmf = Cookie(hypos)"
   ]
  },
  {
   "cell_type": "code",
   "execution_count": 40,
   "metadata": {},
   "outputs": [
    {
     "data": {
      "text/plain": [
       "{'bowl_1': 0.5, 'bowl_2': 0.5}"
      ]
     },
     "execution_count": 40,
     "metadata": {},
     "output_type": "execute_result"
    }
   ],
   "source": [
    "pmf.GetDict()"
   ]
  },
  {
   "cell_type": "code",
   "execution_count": 41,
   "metadata": {},
   "outputs": [],
   "source": [
    "class Cookie(Pmf):\n",
    "    \"\"\" \n",
    "    PMF that maps hypotheses to their probabilities.\n",
    "    Stores the priors and posteriors for each hypothesis given.\n",
    "    :param hypos:\n",
    "    \"\"\"\n",
    "    mixes = {\n",
    "        'bowl_1': {tag_VANILLA: likelihood_H1, tag_CHOCOLATE:1 - likelihood_H1},\n",
    "        'bowl_2': {tag_VANILLA: likelihood_H2, tag_CHOCOLATE:1 - likelihood_H2}\n",
    "    }\n",
    "    def __init__(self, hypos):\n",
    "        \"\"\"\n",
    "        Gives each hypothesis the same prior probability \n",
    "        :param hypos: sequence of string bowl IDs\n",
    "        \"\"\"\n",
    "        Pmf.__init__(self)\n",
    "        for hypo in hypos:\n",
    "            self.Set(hypo, 1)\n",
    "        self.Normalize()\n",
    "        \n",
    "    def Likelihood(self, data, hypo):\n",
    "        \"\"\" \n",
    "        Returns likelihood of obtaning 'data' given that 'hypo' is true\n",
    "        :param data: string cookie type\n",
    "        :param hypo: string bowl ID\n",
    "        \"\"\"\n",
    "        mix = self.mixes.get(hypo)  # from H, get mix of cookies for bowl of that H\n",
    "        like = mix.get(data)  # get the likelihood of observing the data, if H is true\n",
    "        return like\n",
    "    \n",
    "    def Update(self, data):\n",
    "        \"\"\" \n",
    "        Takes some data and updates the probabilities, looping for each H \n",
    "        :param data: string cookie type\n",
    "        \"\"\"\n",
    "        for hypo in self.Values():\n",
    "            like = self.Likelihood(data, hypo)\n",
    "            self.Mult(hypo, like)\n",
    "        self.Normalize()"
   ]
  },
  {
   "cell_type": "code",
   "execution_count": 42,
   "metadata": {},
   "outputs": [],
   "source": [
    "pmf = Cookie(hypos)\n",
    "\n",
    "new_data = 'vanilla'\n",
    "\n",
    "pmf.Update(data=new_data)"
   ]
  },
  {
   "cell_type": "code",
   "execution_count": 43,
   "metadata": {},
   "outputs": [
    {
     "name": "stdout",
     "output_type": "stream",
     "text": [
      "Posterior for bowl_1 : 0.6000000000000001\n",
      "Posterior for bowl_2 : 0.4\n"
     ]
    }
   ],
   "source": [
    "for hypo, prob in pmf.Items():\n",
    "    print(\"Posterior for\", hypo,\":\", prob)"
   ]
  },
  {
   "cell_type": "markdown",
   "metadata": {},
   "source": [
    "This method has the advantage that it generalizes well to other new data:"
   ]
  },
  {
   "cell_type": "code",
   "execution_count": 44,
   "metadata": {},
   "outputs": [],
   "source": [
    "datapoints = [tag_VANILLA, tag_CHOCOLATE, tag_VANILLA]  # succesive extraction of cookies\n",
    "\n",
    "for p in datapoints:\n",
    "    pmf.Update(p)"
   ]
  },
  {
   "cell_type": "code",
   "execution_count": 45,
   "metadata": {},
   "outputs": [
    {
     "name": "stdout",
     "output_type": "stream",
     "text": [
      "Posterior for bowl_1 : 0.627906976744186\n",
      "Posterior for bowl_2 : 0.37209302325581395\n"
     ]
    }
   ],
   "source": [
    "for hypo, prob in pmf.Items():\n",
    "    print(\"Posterior for\", hypo,\":\", prob)"
   ]
  },
  {
   "cell_type": "markdown",
   "metadata": {},
   "source": [
    "<!-- . -->"
   ]
  },
  {
   "cell_type": "markdown",
   "metadata": {},
   "source": [
    "### The Monty Hall Problem\n",
    "\n",
    "Suppose you're on a game show, and you're given the choice of three doors: Behind one door is a car; behind the others, goats. \n",
    "\n",
    "You pick a door, say No. 1, and the host, who knows what's behind the doors, opens another door, say No. 3, which has a goat. He then says to you, \"Do you want to pick door No. 2?\" \n",
    "\n",
    "Is it to your advantage to switch your choice, or stick to your initial choice?\n",
    "\n",
    "Source: [Wikipedia](https://en.wikipedia.org/wiki/Monty_Hall_problem)\n",
    "\n",
    "---\n",
    "Let's find out using programming.\n",
    "\n",
    "We create a new class to represent it:"
   ]
  },
  {
   "cell_type": "code",
   "execution_count": 71,
   "metadata": {},
   "outputs": [],
   "source": [
    "# We have 3 MECE hypotheses:\n",
    "hypos = ['A', 'B', 'C']  # car is actually behind door A, B, or C, respectively\n",
    "\n",
    "door_I_chose = hypos[0]  # I choose door A"
   ]
  },
  {
   "cell_type": "code",
   "execution_count": 72,
   "metadata": {},
   "outputs": [],
   "source": [
    "class Monty(Pmf):\n",
    "    \"\"\" Map: string location of car ==> probability \"\"\"\n",
    "    def __init__(self, hypos):\n",
    "        \"\"\"\n",
    "        Initialize the distribution.\n",
    "        :param hypos: sequence of hypotheses (strings)\n",
    "        \"\"\"\n",
    "        Pmf.__init__(self)\n",
    "        for hypo in hypos:\n",
    "            self.Set(hypo, 1)\n",
    "        self.Normalize()  # so that each probab is 1 / sum(hypos)\n",
    "        \n",
    "    def Likelihood(self, data, hypo):\n",
    "        \"\"\"\n",
    "        Computes the likelihood of the data under the hypothesis.\n",
    "        hypo: string name of the door where the prize is\n",
    "        data: string name of the door Monty opened\n",
    "        \"\"\"\n",
    "        if hypo == data:\n",
    "            return 0\n",
    "        elif hypo == door_I_chose:\n",
    "            return 0.5\n",
    "        else:\n",
    "            return 1\n",
    "        \n",
    "    def Update(self, data):\n",
    "        \"\"\"\n",
    "        Update priors\n",
    "        \"\"\"\n",
    "        for hypo in self.Values():\n",
    "            like = self.Likelihood(data, hypo)\n",
    "            self.Mult(hypo, like)\n",
    "        self.Normalize()"
   ]
  },
  {
   "cell_type": "code",
   "execution_count": 73,
   "metadata": {},
   "outputs": [],
   "source": [
    "pmf_monty = Monty(hypos)  # I initialize my \"distribution of believes\" for this problem"
   ]
  },
  {
   "cell_type": "code",
   "execution_count": 74,
   "metadata": {},
   "outputs": [
    {
     "data": {
      "text/plain": [
       "{'A': 0.3333333333333333, 'B': 0.3333333333333333, 'C': 0.3333333333333333}"
      ]
     },
     "execution_count": 74,
     "metadata": {},
     "output_type": "execute_result"
    }
   ],
   "source": [
    "# These are the priors (probabilities we assign to each door before we know which door Monty opened\n",
    "pmf_monty.GetDict()"
   ]
  },
  {
   "cell_type": "markdown",
   "metadata": {},
   "source": [
    "If we see that Monty opens door B, then we can update the priors with the new data, $D$, like:"
   ]
  },
  {
   "cell_type": "code",
   "execution_count": 75,
   "metadata": {},
   "outputs": [],
   "source": [
    "# After you choose a door, Monty has to open one in which he knows there is no car.\n",
    "# If the car is behind the door you chose, he opens at random one of the other two rows.\n",
    "door_monty_opens = 'C'  # Monty opens door B\n",
    "\n",
    "assert door_monty_opens != door_I_chose, \"Cannot be the same doors\"\n",
    "pmf_monty.Update(door_monty_opens)  # I update my beliefes after knowing the door Monty opened"
   ]
  },
  {
   "cell_type": "code",
   "execution_count": 76,
   "metadata": {},
   "outputs": [
    {
     "data": {
      "text/plain": [
       "{'A': 0.3333333333333333, 'B': 0.6666666666666666, 'C': 0.0}"
      ]
     },
     "execution_count": 76,
     "metadata": {},
     "output_type": "execute_result"
    }
   ],
   "source": [
    "pmf_monty.GetDict()  # check the posteriors"
   ]
  },
  {
   "cell_type": "markdown",
   "metadata": {},
   "source": [
    "Therefore we see that now, If we switch to door B we have a 66% chance of success, and if we don't, we still have a 33% change (i.e., we have not properly utilized the new knowledge of the situation)"
   ]
  },
  {
   "cell_type": "markdown",
   "metadata": {},
   "source": [
    "### Encapsulating the framwork\n",
    "\n",
    "Now that we see a pattern in the custom classes we are building to solve our problems (cookie problem and Monty Hall problem), we can create a more genearl class, called `Suite`, that generalizes these features of \"Bayesian resoning\":"
   ]
  },
  {
   "cell_type": "code",
   "execution_count": 112,
   "metadata": {},
   "outputs": [],
   "source": [
    "class Suite(Pmf):\n",
    "    \"\"\"\n",
    "    Represents a suite of hypotheses and their probabilities.\n",
    "    To be inherited by another class for a specicif problem, where the Likelihood\n",
    "    method needs to be specified.\n",
    "    \"\"\"\n",
    "\n",
    "    def Update(self, data):\n",
    "        \"\"\"Updates each hypothesis based on the data.\n",
    "\n",
    "        data: any representation of the data\n",
    "\n",
    "        returns: the normalizing constant\n",
    "        \"\"\"\n",
    "        for hypo in list(self.Values()):\n",
    "            like = self.Likelihood(data, hypo)\n",
    "            self.Mult(hypo, like)\n",
    "        return self.Normalize()\n",
    "        \n",
    "    def Print(self):\n",
    "        \"\"\"Prints the hypotheses and their probabilities.\"\"\"\n",
    "        print(f\"Distribution of probabilites now: \\n{'---'*20}\\n\")\n",
    "        for hypo, prob in sorted(self.Items()):\n",
    "            print(f\"Hypothesis: {hypo}: {prob}\")"
   ]
  },
  {
   "cell_type": "markdown",
   "metadata": {},
   "source": [
    "And then we use it to define a class for our particular Monty Hall problem:"
   ]
  },
  {
   "cell_type": "code",
   "execution_count": 113,
   "metadata": {},
   "outputs": [],
   "source": [
    "class Monty(Suite):\n",
    "    def Likelihood(self, data, hypo):\n",
    "        \"\"\"\n",
    "        Computes the likelihood of the data under the hypothesis.\n",
    "        hypo: string name of the door where the prize is\n",
    "        data: string name of the door Monty opened\n",
    "        \"\"\"\n",
    "        if hypo == data:\n",
    "            return 0\n",
    "        elif hypo == door_I_chose:\n",
    "            return 0.5\n",
    "        else:\n",
    "            return 1"
   ]
  },
  {
   "cell_type": "code",
   "execution_count": 114,
   "metadata": {},
   "outputs": [
    {
     "data": {
      "text/plain": [
       "{'A': 0.3333333333333333, 'B': 0.3333333333333333, 'C': 0.3333333333333333}"
      ]
     },
     "execution_count": 114,
     "metadata": {},
     "output_type": "execute_result"
    }
   ],
   "source": [
    "suite = Monty(['A', 'B', 'C'])\n",
    "suite.GetDict()"
   ]
  },
  {
   "cell_type": "code",
   "execution_count": 115,
   "metadata": {},
   "outputs": [
    {
     "name": "stdout",
     "output_type": "stream",
     "text": [
      "Distribution of probabilites now: \n",
      "------------------------------------------------------------\n",
      "\n",
      "Hypothesis: A: 0.3333333333333333\n",
      "Hypothesis: B: 0.0\n",
      "Hypothesis: C: 0.6666666666666666\n"
     ]
    }
   ],
   "source": [
    "suite.Update('B')\n",
    "\n",
    "suite.Print()"
   ]
  },
  {
   "cell_type": "markdown",
   "metadata": {},
   "source": [
    "### The M&M Problem\n",
    "\n",
    "Before 1995, the color mix in a bag of plain M&M’s was \n",
    "- 30% Brown\n",
    "- 20% Yellow\n",
    "- 20% Red\n",
    "- 10% Green\n",
    "- 10% Orange\n",
    "- 10% Tan\n",
    "\n",
    "Afterward it was \n",
    "- 24% Blue\n",
    "- 20% Green\n",
    "- 16% Orange\n",
    "- 14% Yellow\n",
    "- 13% Red\n",
    "- 13% Brown\n",
    "\n",
    "Suppose a friend of mine has two bags of M&M’s, and he tells me that one is from 1994 and one from 1996. **He won’t tell me which is which**, but he gives me one M&M from each bag. **The one from the first bag is yellow and the one from the second bag is green**. \n",
    "\n",
    "> What is the probability that the yellow one came from the 1994 bag?\n",
    "\n",
    "This problem is similar to the cookie problem, with the twist that I draw one sample from each bowl/bag."
   ]
  },
  {
   "cell_type": "code",
   "execution_count": 123,
   "metadata": {},
   "outputs": [],
   "source": [
    "# observations\n",
    "obs1 = ('bag1', 'yellow')  # got a yellow M&M from first bag (maybe this bag is from 94?)\n",
    "obs2 = ('bag2', 'green')   # got a green M&M from second bag (maybe this bag is from 94?)\n",
    "\n",
    "observations = [obs1, obs2]"
   ]
  },
  {
   "cell_type": "code",
   "execution_count": 120,
   "metadata": {},
   "outputs": [],
   "source": [
    "class M_and_M(Suite):\n",
    "    \"\"\"Map from hypothesis (A or B) to probability.\"\"\"\n",
    "    # known information regarding the distribution of colors in each type of bag\n",
    "    mix94 = dict(brown=30, yellow=20, red=20, green=10, orange=10, tan=10, blue=0)\n",
    "    mix96 = dict(blue=24, green=20, orange=16, yellow=14, red=13, brown=13, tan=0)\n",
    "    # MECE hypotheses\n",
    "    hypoA = dict(bag1=mix94, bag2=mix96)  # the 1st bag has the mix of 94\n",
    "    hypoB = dict(bag1=mix96, bag2=mix94)  # the 1st bag has the mix of 96\n",
    "\n",
    "    hypotheses = dict(A=hypoA, B=hypoB)\n",
    "\n",
    "    def Likelihood(self, data, hypo):\n",
    "        \"\"\"\n",
    "        Computes the likelihood of the data under the hypothesis.\n",
    "        hypo: string hypothesis (A or B)\n",
    "        data: tuple of string bag, string color\n",
    "        \"\"\"\n",
    "        bag, color = data\n",
    "        mix = self.hypotheses[hypo][bag]\n",
    "        like = mix[color]\n",
    "        return like"
   ]
  },
  {
   "cell_type": "markdown",
   "metadata": {},
   "source": [
    "First, we only have our prior:"
   ]
  },
  {
   "cell_type": "code",
   "execution_count": 122,
   "metadata": {},
   "outputs": [
    {
     "name": "stdout",
     "output_type": "stream",
     "text": [
      "Distribution of probabilites now: \n",
      "------------------------------------------------------------\n",
      "\n",
      "Hypothesis: A: 0.5\n",
      "Hypothesis: B: 0.5\n"
     ]
    }
   ],
   "source": [
    "# H_A: the 1st bag has the mix of 94\n",
    "# H_B: the 1st bag has the mix of 96\n",
    "suite = M_and_M(['A', 'B'])\n",
    "suite.Print()"
   ]
  },
  {
   "cell_type": "code",
   "execution_count": 124,
   "metadata": {},
   "outputs": [
    {
     "name": "stdout",
     "output_type": "stream",
     "text": [
      "Distribution of probabilites now: \n",
      "------------------------------------------------------------\n",
      "\n",
      "Hypothesis: A: 0.7407407407407407\n",
      "Hypothesis: B: 0.2592592592592592\n"
     ]
    }
   ],
   "source": [
    "# Updating of priors\n",
    "for obs in observations:\n",
    "    suite.Update(obs)\n",
    "    \n",
    "suite.Print()"
   ]
  },
  {
   "cell_type": "markdown",
   "metadata": {},
   "source": [
    "Which means that now, we are 74% sure that our hypothesis A is true, namely, **we are 74% sure that the 1st bag has the color mix of 94.** \n",
    "\n",
    "Our question was 'What is the probability that the yellow one came from the 1994 bag?'. Since we took the yellow M&M from the first bag (observation 1), this is equivalent to saying that **there is a 74% chance that the yellow M&M came from the 1994 bag.**\n",
    "\n",
    "And this, indeed, agrees with our theoretical (by hand) results using the table method."
   ]
  },
  {
   "cell_type": "code",
   "execution_count": null,
   "metadata": {},
   "outputs": [],
   "source": []
  }
 ],
 "metadata": {
  "kernelspec": {
   "display_name": "Python 3",
   "language": "python",
   "name": "python3"
  },
  "language_info": {
   "codemirror_mode": {
    "name": "ipython",
    "version": 3
   },
   "file_extension": ".py",
   "mimetype": "text/x-python",
   "name": "python",
   "nbconvert_exporter": "python",
   "pygments_lexer": "ipython3",
   "version": "3.7.4"
  }
 },
 "nbformat": 4,
 "nbformat_minor": 4
}
