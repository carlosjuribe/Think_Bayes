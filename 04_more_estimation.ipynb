{
 "cells": [
  {
   "cell_type": "markdown",
   "metadata": {},
   "source": [
    "# Chapter 4: More Estimation\n",
    "___\n",
    "\n",
    "Table of contents:\n",
    "\n",
    "1. [The Euro Problem](#euro)\n",
    "2. [Summarizing the Posterior](#summarize)\n",
    "3. [Swamping the priors](#swamp)\n",
    "2. [Optimization](#opt)\n",
    "2. [The Beta Distribution](#beta)"
   ]
  },
  {
   "cell_type": "code",
   "execution_count": 21,
   "metadata": {},
   "outputs": [
    {
     "name": "stdout",
     "output_type": "stream",
     "text": [
      "The autoreload extension is already loaded. To reload it, use:\n",
      "  %reload_ext autoreload\n"
     ]
    }
   ],
   "source": [
    "# I import the abstract type that I defined in notebook 2:\n",
    "from think_bayes_modified import (Suite, percentile, credible_interval, \n",
    "                                  compare_posteriors_for_same_data)\n",
    "\n",
    "import pandas as pd\n",
    "import matplotlib.pyplot as plt\n",
    "from random import shuffle\n",
    "from typing import List, Tuple, Dict, Any\n",
    "\n",
    "%load_ext autoreload\n",
    "%autoreload 2"
   ]
  },
  {
   "cell_type": "markdown",
   "metadata": {},
   "source": [
    "### 1. The Euro Problem  <a id=\"euro\"></a>\n",
    "\n",
    "When spun on edge 250 times, a Belgian one-euro coin came up heads 140 times and tails 110. ‘It looks very suspicious to me,’ said Barry Blight, a statistics lecturer at the London School of Economics. ‘If the coin were unbiased, the chance of getting a result as extreme as that would be less than 7%.\n",
    "\n",
    "But do these data give evidence that the coin is biased rather than fair?\n",
    "\n",
    "To answer that question, we’ll proceed in two steps:\n",
    "1. **Estimate the probability** that the coin lands face up.\n",
    "2. Evaluate whether the **data support the hypothesis** that the coin is biased. (a little harder, dealt with in the next chapter)\n",
    "\n",
    "Any given coin has some probability, x, of landing heads up when spun on edge. It seems reasonable to believe that the value of x depends on some physical characteristics of the coin, primarily the distribution of weight.\n",
    "\n",
    "If a coin is perfectly balanced, we expect x to be close to 50%, but for a lopsided coin, x might be substantially different. We can use Bayes’s theorem and the observed data to estimate x.\n",
    "\n",
    "Let’s define 101 hypotheses, where $H_x$ is the hypothesis that the probability of heads is $ x $ %, for values from 0 to 100. I’ll start with a uniform prior where the probability of Hx is the same for all x. We’ll come back later to consider other priors.\n",
    "\n",
    "The likelihood function is relatively easy: If $H_x$ is true, the probability of heads is $ x / 100 $ and the probability of tails is $ 1 − x/100 $.\n",
    "\n",
    "We define a class that has this likelihood in it. At first, we do not pay much attention to the appropriateness of the data structure used to represent head and tails, but later we will make some improvements to this implementation."
   ]
  },
  {
   "cell_type": "code",
   "execution_count": 2,
   "metadata": {},
   "outputs": [],
   "source": [
    "class Euro(Suite):\n",
    "    \"\"\" class for the Euro problem \"\"\"\n",
    "    def Likelihood(self, data, hypo):\n",
    "        x = hypo\n",
    "        if data == 'H':  # heads\n",
    "            return x / 100.0\n",
    "        else:            # tails\n",
    "            return 1 - x / 100.0"
   ]
  },
  {
   "cell_type": "code",
   "execution_count": 3,
   "metadata": {},
   "outputs": [],
   "source": [
    "# after some coin tosses, I get these. I want to find out whether or not the coin is fair.\n",
    "num_heads = 140\n",
    "num_tails = 110"
   ]
  },
  {
   "cell_type": "code",
   "execution_count": 4,
   "metadata": {},
   "outputs": [
    {
     "data": {
      "image/png": "[encoded data removed]",
      "text/plain": [
       "<Figure size 432x288 with 1 Axes>"
      ]
     },
     "metadata": {
      "needs_background": "light"
     },
     "output_type": "display_data"
    }
   ],
   "source": [
    "coin_flips = ['H'] * num_heads + ['T'] * num_tails  # observations\n",
    "shuffle(coin_flips)  # in-place random mixing\n",
    "\n",
    "hypotheses = range(0, 101)  # I consider 100 hypotheses, where H_i means that I assume P(H) = x %\n",
    "suite = Euro(hypotheses)  # my prior will be uniform, and thus I start believing the coin is fair\n",
    "\n",
    "suite.PlotProb();"
   ]
  },
  {
   "cell_type": "code",
   "execution_count": 5,
   "metadata": {},
   "outputs": [
    {
     "data": {
      "image/png": "[encoded data removed]",
      "text/plain": [
       "<Figure size 432x288 with 1 Axes>"
      ]
     },
     "metadata": {
      "needs_background": "light"
     },
     "output_type": "display_data"
    }
   ],
   "source": [
    "# update my prior witll all the observed coin flips\n",
    "for flip in coin_flips:\n",
    "    suite.Update(flip)\n",
    "    \n",
    "suite.PlotMean()"
   ]
  },
  {
   "cell_type": "markdown",
   "metadata": {},
   "source": [
    "### 2. Summarizing the Posterior  <a id=\"summarize\"></a>\n",
    "\n",
    "Of course, there are several ways to summarize the posterior distribution. One option is to find the **most likely value in the posterior distribution**:"
   ]
  },
  {
   "cell_type": "code",
   "execution_count": 6,
   "metadata": {},
   "outputs": [],
   "source": [
    "def max_likelihood(pmf):\n",
    "    \"\"\"Returns the value with the highest probability.\"\"\"\n",
    "    prob, val = max((prob, val) for val, prob in pmf.Items())\n",
    "    return val"
   ]
  },
  {
   "cell_type": "code",
   "execution_count": 7,
   "metadata": {},
   "outputs": [
    {
     "name": "stdout",
     "output_type": "stream",
     "text": [
      "Max likelihood estimate is 56\n",
      "Proportion of heads is 140 / (110 + 140), which coincides with 56.00%\n"
     ]
    }
   ],
   "source": [
    "print(\"Max likelihood estimate is\", max_likelihood(suite))\n",
    "print(f\"Proportion of heads is {num_heads} / ({num_tails} + {num_heads}), which coincides with \"\n",
    "      f\"{num_heads * 100 / (num_heads + num_tails):.2f}%\")"
   ]
  },
  {
   "cell_type": "markdown",
   "metadata": {},
   "source": [
    "In this case the result, 56, is also the observed percentage of heads, 140/250 = 56%. So that suggests (correctly) that the observed percentage is the maximum likelihood estimator for the population.\n",
    "\n",
    "We might also summarize the posterior by computing the mean and median:"
   ]
  },
  {
   "cell_type": "code",
   "execution_count": 8,
   "metadata": {},
   "outputs": [
    {
     "name": "stdout",
     "output_type": "stream",
     "text": [
      "Mean: 55.95\n",
      "median: 56\n",
      "90%-CI: (51, 61)\n"
     ]
    }
   ],
   "source": [
    "mean = suite.Mean()\n",
    "median = percentile(suite, 50)\n",
    "CI_90 = credible_interval(suite, percentage=90)\n",
    "\n",
    "print(f\"Mean: {mean:0.2f}\")\n",
    "print(f\"median: {median}\")\n",
    "print(f\"90%-CI: {CI_90}\")"
   ]
  },
  {
   "cell_type": "markdown",
   "metadata": {},
   "source": [
    "Now, getting back to the original question, **we would like to know whether the coin is fair**. \n",
    "\n",
    "We observe that <font color=\"red\"> the posterior credible interval does not include 50%, </font> which suggests that the coin is not fair. \n",
    "\n",
    "But ... <font color=\"red\"> Does that **really** suggest that?</font>, or are we in state of confusion, mistaking _credible intervals_ for **reasonable evidence**?\n",
    "\n",
    "Indeed we are, since with a CI we are not answering _exactly the question we started with_. We asked:\n",
    "> \"Do these data give evidence that the coin is biased rather than fair?\" \n",
    "\n",
    "To answer that question, we will have to be more precise about what **it means to say that data constitute evidence for a hypothesis**. And that is the subject of the [next chapter](05_odds_and_addends.ipynb).\n",
    "\n",
    "But before we go on, let's address one possible source of confusion. Since we want to know whether the coin is fair, it might be tempting to ask for the probability that x is 50%, right?"
   ]
  },
  {
   "cell_type": "code",
   "execution_count": 9,
   "metadata": {},
   "outputs": [
    {
     "data": {
      "text/plain": [
       "0.020976526129544672"
      ]
     },
     "execution_count": 9,
     "metadata": {},
     "output_type": "execute_result"
    }
   ],
   "source": [
    "suite.Prob(50)"
   ]
  },
  {
   "cell_type": "markdown",
   "metadata": {},
   "source": [
    "The problem is that this 0.021, is almost **meaningless**. The decision to evaluate 101 hypotheses was arbitrary; we could have divided the range into more or fewer pieces, with the probability for any given hypothesis being greater or lower, respectively, depending on that chosen number."
   ]
  },
  {
   "cell_type": "markdown",
   "metadata": {},
   "source": [
    "### 3. Swamping the priors  <a id=\"swamp\"></a>\n",
    "\n",
    "We started with a uniform prior, but that might not be a good choice. I can believe that if a coin is lopsided, x might deviate substantially from 50%, but it seems unlikely that the Belgian Euro coin is so imbalanced that x is 10% or 90%.\n",
    "\n",
    "It might be more reasonable to choose a prior that gives higher probability to values of x near 50% and lower probability to extreme values. And the simplest form of this prior is a \"triangular\" distribution with a peak at 50% and decaying linearly to both extremes, 0% and 100%. This in fact is a more reasonable prior because it somewhat encapsulates more knowledge about the real world, in this case, knowledge about the fact that a coin that is not fair but has at least the shape of a coin **imposes some limits** on the _mass distribution_ inside the coin, and that in turn imposes some limits on the _probability distribution_ of its possible outcomes. Namely, that **probabilities closer to 50% will be more likely that probabilities \"far away\" from 50%.**.\n",
    "\n",
    "One way to express this general intuition mathematically is with the triangular prior:\n",
    "\n",
    "$$\n",
    "prior(x) = \n",
    "     \\begin{cases}\n",
    "       x        &\\quad\\text{ if } 0 <= x <= 50 \\\\\n",
    "       100 - x  &\\quad\\text{ if } 50 > x >= 100\n",
    "     \\end{cases}\n",
    "$$\n",
    "\n",
    "Let's implement this prior:"
   ]
  },
  {
   "cell_type": "code",
   "execution_count": 42,
   "metadata": {},
   "outputs": [],
   "source": [
    "class EuroTrianglePrior(Suite):\n",
    "    \"\"\" Suite for solving the euro problem, with a more realistic triangle prior \"\"\"\n",
    "    def __init__(self, hypos):\n",
    "        Suite.__init__(self)\n",
    "        # but now override the prior as computed inside Suite, i.e., inside Pmf\n",
    "        for x in range(0, 50 + 1):\n",
    "            self.Set(x, x)  # left part of the triangle\n",
    "        for x in range(50 + 1, 101):\n",
    "            self.Set(x, 100 - x)\n",
    "        self.Normalize()\n",
    "        \n",
    "    def Likelihood(self, data, hypo):\n",
    "        x = hypo\n",
    "        if data == 'H':  # heads\n",
    "            return x / 100.0\n",
    "        else:            # tails\n",
    "            return 1 - x / 100.0"
   ]
  },
  {
   "cell_type": "markdown",
   "metadata": {},
   "source": [
    "And now let's see how it compares with the prior we had before (the uniform prior). In order to do that, we first create a function that compares priors:"
   ]
  },
  {
   "cell_type": "code",
   "execution_count": 61,
   "metadata": {},
   "outputs": [],
   "source": [
    "def compare_distributions(suites: List, labels=['prior1', 'prior2'], title=\"\"):\n",
    "    \"\"\"\n",
    "    Given a list of suites, plots each current distribution on the same plot, for comparison \n",
    "    \"\"\"\n",
    "    fig, ax = plt.subplots(figsize=(8, 4))\n",
    "    for suite, label in zip(suites, labels):\n",
    "        suite_dict = suite.GetDict()\n",
    "        ax.plot(suite_dict.keys(), suite_dict.values(), label=label)\n",
    "        ax.autoscale(tight=True, axis='x')\n",
    "        ax.set_title(f\"Comparison of distributions\\n{title}\", fontsize=14)\n",
    "        ax.set_xlabel(\"Possible values\", fontsize=12); ax.set_ylabel(\"Probability (now)\")\n",
    "        ax.legend(fontsize=11)"
   ]
  },
  {
   "cell_type": "markdown",
   "metadata": {},
   "source": [
    "Now we define two suites that have still not seen any data, and visualize them"
   ]
  },
  {
   "cell_type": "code",
   "execution_count": 65,
   "metadata": {},
   "outputs": [
    {
     "data": {
      "image/png": "[encoded data removed]",
      "text/plain": [
       "<Figure size 576x288 with 1 Axes>"
      ]
     },
     "metadata": {
      "needs_background": "light"
     },
     "output_type": "display_data"
    }
   ],
   "source": [
    "suite_triangle_prior = EuroTrianglePrior(hypotheses)\n",
    "suite_uniform_prior = Euro(hypotheses)\n",
    "\n",
    "compare_distributions(suites=[suite_uniform_prior, suite_triangle_prior], \n",
    "                      labels=['uniform prior', 'triangle prior'],\n",
    "                      title=\"(priors)\")"
   ]
  },
  {
   "cell_type": "markdown",
   "metadata": {},
   "source": [
    "Now it would be interesting to see how similar the posteriors are for the two models, when they see the same data:"
   ]
  },
  {
   "cell_type": "code",
   "execution_count": 66,
   "metadata": {},
   "outputs": [
    {
     "data": {
      "image/png": "[encoded data removed]",
      "text/plain": [
       "<Figure size 576x288 with 1 Axes>"
      ]
     },
     "metadata": {
      "needs_background": "light"
     },
     "output_type": "display_data"
    }
   ],
   "source": [
    "for flip in coin_flips:\n",
    "    suite_uniform_prior.Update(flip)\n",
    "    suite_triangle_prior.Update(flip)\n",
    "    \n",
    "compare_distributions(suites=[suite_uniform_prior, suite_triangle_prior],\n",
    "                      labels=['uniform prior', 'triangle prior'],\n",
    "                      title='(Posteriors)')"
   ]
  },
  {
   "cell_type": "code",
   "execution_count": 67,
   "metadata": {},
   "outputs": [],
   "source": [
    "def summary_distributions(suites: List, labels=['prior1', 'prior2']):\n",
    "    \"\"\" Given a list of suites, prints out relevant point estimates for each suite \"\"\"\n",
    "    for suite, label in zip(suites, labels):\n",
    "        mean = suite.Mean()\n",
    "        median = percentile(suite, 50)\n",
    "        CI_90 = credible_interval(suite, 90)\n",
    "        print(f\"\\n{'---'*20}\\nSummary for suite: {label}\\n\"\n",
    "               f\" - Mean: {mean:0.2f}\\n - Median: {median}\\n - 90%-CI: {CI_90}\")"
   ]
  },
  {
   "cell_type": "code",
   "execution_count": 68,
   "metadata": {},
   "outputs": [
    {
     "name": "stdout",
     "output_type": "stream",
     "text": [
      "\n",
      "------------------------------------------------------------\n",
      "Summary for suite: uniform prior\n",
      " - Mean: 55.95\n",
      " - Median: 56\n",
      " - 90%-CI: (51, 61)\n",
      "\n",
      "------------------------------------------------------------\n",
      "Summary for suite: triangle prior\n",
      " - Mean: 55.74\n",
      " - Median: 56\n",
      " - 90%-CI: (51, 61)\n"
     ]
    }
   ],
   "source": [
    "summary_distributions(suites=[suite_uniform_prior, suite_triangle_prior],\n",
    "                      labels=['uniform prior', 'triangle prior'])"
   ]
  },
  {
   "cell_type": "markdown",
   "metadata": {},
   "source": [
    "Even with **substantially different priors, the posterior distributions are very similar**. The medians and the credible intervals are identical; the means differ by less than 0.5%.\n",
    "\n",
    "This is an example of **swamping the priors: with enough data, people who start with different priors will tend to converge on the same posterior**."
   ]
  },
  {
   "cell_type": "markdown",
   "metadata": {},
   "source": [
    "### 3. Optimization  <a id=\"opt\"></a>\n",
    "\n",
    "The code developed so far is meant to be easy to read, but it is not very efficient. For this example, if we care about run time, there are several ways we can speed it up.\n",
    "\n",
    "The first opportunity is to reduce the number of times we normalize the suite. In the original code, we call Update once for each spin. Each update iterates through the hypotheses, then calls Normalize, which iterates through the hypotheses again. We can save some time by doing all of the updates before normalizing, like with the new method `UpdateSet`:"
   ]
  },
  {
   "cell_type": "code",
   "execution_count": 69,
   "metadata": {},
   "outputs": [],
   "source": [
    "class Euro(Euro):\n",
    "    def UpdateSet(self, dataset):\n",
    "            for data in dataset:\n",
    "                for hypo in self.Values():\n",
    "                    like = self.Likelihood(data, hypo)\n",
    "                    self.Mult(hypo, like)\n",
    "            return self.Normalize()"
   ]
  },
  {
   "cell_type": "code",
   "execution_count": 71,
   "metadata": {},
   "outputs": [
    {
     "data": {
      "image/png": "[encoded data removed]",
      "text/plain": [
       "<Figure size 432x288 with 1 Axes>"
      ]
     },
     "metadata": {
      "needs_background": "light"
     },
     "output_type": "display_data"
    }
   ],
   "source": [
    "suite_new = Euro(hypotheses)\n",
    "suite_new.UpdateSet(coin_flips)  # we can use the whole dataset at once\n",
    "suite_new.PlotMean()"
   ]
  },
  {
   "cell_type": "markdown",
   "metadata": {},
   "source": [
    "Let's compare the run times, to see if there exists a significant difference:"
   ]
  },
  {
   "cell_type": "code",
   "execution_count": 77,
   "metadata": {},
   "outputs": [
    {
     "name": "stdout",
     "output_type": "stream",
     "text": [
      "15.1 ms ± 889 µs per loop (mean ± std. dev. of 7 runs, 100 loops each)\n"
     ]
    }
   ],
   "source": [
    "%%timeit  # slow (original) version\n",
    "suite_new = Euro(hypotheses)\n",
    "for flip in coin_flips:\n",
    "    suite_new.Update(flip)"
   ]
  },
  {
   "cell_type": "code",
   "execution_count": 76,
   "metadata": {},
   "outputs": [
    {
     "name": "stdout",
     "output_type": "stream",
     "text": [
      "10.7 ms ± 176 µs per loop (mean ± std. dev. of 7 runs, 100 loops each)\n"
     ]
    }
   ],
   "source": [
    "%%timeit  # less slow (current) version\n",
    "suite_new = Euro(hypotheses)\n",
    "suite_new.UpdateSet(coin_flips)  # we can use the whole dataset at once"
   ]
  },
  {
   "cell_type": "markdown",
   "metadata": {},
   "source": [
    "From 15.1ms to 10.7ms we are talking about a 41% increase in speed, so that's something, although the run time is still proportional to the amount of data. We can speed things up even more by rewriting Likelihood to process the entire dataset, rather than one spin at a time. To do this, we first need to **reformulate how we are going to store our dataset** so we can divise a **more efficient of useful manner.**\n",
    "\n",
    "In the original version, data is a string that encodes either heads or tails. As an alternative, we could encode the dataset as a tuple of two integers: the number of heads and tails. In that case Likelihood looks like this:"
   ]
  },
  {
   "cell_type": "code",
   "execution_count": 82,
   "metadata": {},
   "outputs": [
    {
     "name": "stdout",
     "output_type": "stream",
     "text": [
      "140 110\n"
     ]
    }
   ],
   "source": [
    "print(num_heads, num_tails)"
   ]
  },
  {
   "cell_type": "markdown",
   "metadata": {},
   "source": [
    "Now we need to modify the likelihood method so that it can handle this new data encoding:"
   ]
  },
  {
   "cell_type": "code",
   "execution_count": 83,
   "metadata": {},
   "outputs": [],
   "source": [
    "class EuroNew(Euro):\n",
    "    \"\"\" Class with new encoding of observations \"\"\"\n",
    "    def Likelihood(self, data, hypo):\n",
    "        x = hypo / 100.0  # probability represented by hypo\n",
    "        heads, tails = data\n",
    "        likelihood = x**heads * (1 - x)**tails  # TODO: This can't be right\n",
    "        return likelihood"
   ]
  },
  {
   "cell_type": "code",
   "execution_count": 86,
   "metadata": {},
   "outputs": [
    {
     "data": {
      "text/plain": [
       "2.6088321798736822e-76"
      ]
     },
     "execution_count": 86,
     "metadata": {},
     "output_type": "execute_result"
    }
   ],
   "source": [
    "dataset = (num_heads, num_tails)\n",
    "suite_new2 = EuroNew(hypotheses)\n",
    "suite_new2.Update(dataset)"
   ]
  },
  {
   "cell_type": "code",
   "execution_count": null,
   "metadata": {},
   "outputs": [],
   "source": []
  },
  {
   "cell_type": "code",
   "execution_count": null,
   "metadata": {},
   "outputs": [],
   "source": []
  },
  {
   "cell_type": "code",
   "execution_count": null,
   "metadata": {},
   "outputs": [],
   "source": []
  },
  {
   "cell_type": "code",
   "execution_count": null,
   "metadata": {},
   "outputs": [],
   "source": []
  },
  {
   "cell_type": "markdown",
   "metadata": {},
   "source": [
    "### 3. The Beta Distribution  <a id=\"beta\"></a>"
   ]
  },
  {
   "cell_type": "code",
   "execution_count": null,
   "metadata": {},
   "outputs": [],
   "source": []
  },
  {
   "cell_type": "code",
   "execution_count": null,
   "metadata": {},
   "outputs": [],
   "source": []
  },
  {
   "cell_type": "code",
   "execution_count": null,
   "metadata": {},
   "outputs": [],
   "source": []
  },
  {
   "cell_type": "code",
   "execution_count": null,
   "metadata": {},
   "outputs": [],
   "source": []
  }
 ],
 "metadata": {
  "kernelspec": {
   "display_name": "Python 3",
   "language": "python",
   "name": "python3"
  },
  "language_info": {
   "codemirror_mode": {
    "name": "ipython",
    "version": 3
   },
   "file_extension": ".py",
   "mimetype": "text/x-python",
   "name": "python",
   "nbconvert_exporter": "python",
   "pygments_lexer": "ipython3",
   "version": "3.7.4"
  }
 },
 "nbformat": 4,
 "nbformat_minor": 4
}
