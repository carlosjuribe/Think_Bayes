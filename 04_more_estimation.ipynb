{
 "cells": [
  {
   "cell_type": "markdown",
   "metadata": {},
   "source": [
    "# Chapter 4: More Estimation\n",
    "___\n",
    "\n",
    "Table of contents:\n",
    "\n",
    "1. [The Euro Problem](#euro)\n",
    "2. [Summarizing the Posterior](#summarize)\n",
    "3. [Swamping the priors](#swamp)\n",
    "2. [Optimization](#opt)\n",
    "2. [The Beta Distribution](#beta)"
   ]
  },
  {
   "cell_type": "code",
   "execution_count": 45,
   "metadata": {},
   "outputs": [
    {
     "name": "stdout",
     "output_type": "stream",
     "text": [
      "The autoreload extension is already loaded. To reload it, use:\n",
      "  %reload_ext autoreload\n"
     ]
    }
   ],
   "source": [
    "# I import the abstract type that I defined in notebook 2:\n",
    "from think_bayes_modified import Suite, percentile, credible_interval\n",
    "\n",
    "import pandas as pd\n",
    "import matplotlib.pyplot as plt\n",
    "from random import shuffle\n",
    "\n",
    "%load_ext autoreload\n",
    "%autoreload 2"
   ]
  },
  {
   "cell_type": "markdown",
   "metadata": {},
   "source": [
    "### 1. The Euro Problem  <a id=\"euro\"></a>\n",
    "\n",
    "When spun on edge 250 times, a Belgian one-euro coin came up heads 140 times and tails 110. ‘It looks very suspicious to me,’ said Barry Blight, a statistics lecturer at the London School of Economics. ‘If the coin were unbiased, the chance of getting a result as extreme as that would be less than 7%.\n",
    "\n",
    "But do these data give evidence that the coin is biased rather than fair?\n",
    "\n",
    "To answer that question, we’ll proceed in two steps:\n",
    "1. **Estimate the probability** that the coin lands face up.\n",
    "2. Evaluate whether the **data support the hypothesis** that the coin is biased. (a little harder, dealt with in the next chapter)\n",
    "\n",
    "Any given coin has some probability, x, of landing heads up when spun on edge. It seems reasonable to believe that the value of x depends on some physical characteristics of the coin, primarily the distribution of weight.\n",
    "\n",
    "If a coin is perfectly balanced, we expect x to be close to 50%, but for a lopsided coin, x might be substantially different. We can use Bayes’s theorem and the observed data to estimate x.\n",
    "\n",
    "Let’s define 101 hypotheses, where $H_x$ is the hypothesis that the probability of heads is $ x $ %, for values from 0 to 100. I’ll start with a uniform prior where the probability of Hx is the same for all x. We’ll come back later to consider other priors.\n",
    "\n",
    "The likelihood function is relatively easy: If $H_x$ is true, the probability of heads is $ x / 100 $ and the probability of tails is $ 1 − x/100 $.\n",
    "\n",
    "We define a class that has this likelihood in it. At first, we do not pay much attention to the appropriateness of the data structure used to represent head and tails, but later we will make some improvements to this implementation."
   ]
  },
  {
   "cell_type": "code",
   "execution_count": 14,
   "metadata": {},
   "outputs": [],
   "source": [
    "class Euro(Suite):\n",
    "    \"\"\" class for the Euro problem \"\"\"\n",
    "    def Likelihood(self, data, hypo):\n",
    "        x = hypo\n",
    "        if data == 'H':  # heads\n",
    "            return x / 100.0\n",
    "        else:            # tails\n",
    "            return 1 - x / 100.0"
   ]
  },
  {
   "cell_type": "code",
   "execution_count": 15,
   "metadata": {},
   "outputs": [],
   "source": [
    "# after some coin tosses, I get these. I want to find out whether or not the coin is fair.\n",
    "num_heads = 140\n",
    "num_tails = 110"
   ]
  },
  {
   "cell_type": "code",
   "execution_count": 25,
   "metadata": {},
   "outputs": [
    {
     "data": {
      "image/png": "[encoded data removed]",
      "text/plain": [
       "<Figure size 432x288 with 1 Axes>"
      ]
     },
     "metadata": {
      "needs_background": "light"
     },
     "output_type": "display_data"
    }
   ],
   "source": [
    "hypotheses = range(0, 101)  # I consider 100 hypotheses, where H_i means that I assume P(H) = x %\n",
    "suite = Euro(hypotheses)  # my prior will be uniform, and thus I start believing the coin is fair\n",
    "\n",
    "coin_flips = ['H'] * num_heads + ['T'] * num_tails\n",
    "shuffle(coin_flips)  # in-place random mixing\n",
    "\n",
    "suite.PlotProb();"
   ]
  },
  {
   "cell_type": "code",
   "execution_count": 26,
   "metadata": {},
   "outputs": [
    {
     "data": {
      "image/png": "[encoded data removed]",
      "text/plain": [
       "<Figure size 432x288 with 1 Axes>"
      ]
     },
     "metadata": {
      "needs_background": "light"
     },
     "output_type": "display_data"
    }
   ],
   "source": [
    "# update my prior witll all the observed coin flips\n",
    "for flip in coin_flips:\n",
    "    suite.Update(flip)\n",
    "    \n",
    "suite.PlotMean()"
   ]
  },
  {
   "cell_type": "markdown",
   "metadata": {},
   "source": [
    "### 2. Summarizing the Posterior  <a id=\"summarize\"></a>\n",
    "\n",
    "Of course, there are several ways to summarize the posterior distribution. One option is to find the **most likely value in the posterior distribution**:"
   ]
  },
  {
   "cell_type": "code",
   "execution_count": 29,
   "metadata": {},
   "outputs": [],
   "source": [
    "def max_likelihood(pmf):\n",
    "    \"\"\"Returns the value with the highest probability.\"\"\"\n",
    "    prob, val = max((prob, val) for val, prob in pmf.Items())\n",
    "    return val"
   ]
  },
  {
   "cell_type": "code",
   "execution_count": 40,
   "metadata": {},
   "outputs": [
    {
     "name": "stdout",
     "output_type": "stream",
     "text": [
      "Max likelihood estimate is 56\n",
      "Proportion of heads is 140 / (110 + 140), which coincides with 56.00%\n"
     ]
    }
   ],
   "source": [
    "print(\"Max likelihood estimate is\", max_likelihood(suite))\n",
    "print(f\"Proportion of heads is {num_heads} / ({num_tails} + {num_heads}), which coincides with \"\n",
    "      f\"{num_heads * 100 / (num_heads + num_tails):.2f}%\")"
   ]
  },
  {
   "cell_type": "markdown",
   "metadata": {},
   "source": [
    "In this case the result, 56, is also the observed percentage of heads, 140/250 = 56%. So that suggests (correctly) that the observed percentage is the maximum likelihood estimator for the population.\n",
    "\n",
    "We might also summarize the posterior by computing the mean and median:"
   ]
  },
  {
   "cell_type": "code",
   "execution_count": 47,
   "metadata": {},
   "outputs": [
    {
     "name": "stdout",
     "output_type": "stream",
     "text": [
      "Mean: 55.95\n",
      "median: 56\n",
      "90%-CI: (51, 61)\n"
     ]
    }
   ],
   "source": [
    "mean = suite.Mean()\n",
    "median = percentile(suite, 50)\n",
    "CI_90 = credible_interval(suite, percentage=90)\n",
    "\n",
    "print(f\"Mean: {mean:0.2f}\")\n",
    "print(f\"median: {median}\")\n",
    "print(f\"90%-CI: {CI_90}\")"
   ]
  },
  {
   "cell_type": "markdown",
   "metadata": {},
   "source": [
    "Now, getting back to the original question, **we would like to know whether the coin is fair**. \n",
    "\n",
    "We observe that <font color=\"red\"> the posterior credible interval does not include 50%, </font> which suggests that the coin is not fair. \n",
    "\n",
    "But ... <font color=\"red\"> Does that **really** suggest that?</font>, or are we in state of confusion, mistaking _credible intervals_ for **reasonable evidence**?\n",
    "\n",
    "Indeed we are, since with a CI we are not answering _exactly the question we started with_. We asked:\n",
    "> \"Do these data give evidence that the coin is biased rather than fair?\" \n",
    "\n",
    "To answer that question, we will have to be more precise about what **it means to say that data constitute evidence for a hypothesis**. And that is the subject of the [next chapter](05_odds_and_addends.ipynb).\n",
    "\n",
    "But before we go on, let's address one possible source of confusion. Since we want to know whether the coin is fair, it might be tempting to ask for the probability that x is 50%, right?"
   ]
  },
  {
   "cell_type": "code",
   "execution_count": 50,
   "metadata": {},
   "outputs": [
    {
     "data": {
      "text/plain": [
       "0.02097652612954467"
      ]
     },
     "execution_count": 50,
     "metadata": {},
     "output_type": "execute_result"
    }
   ],
   "source": [
    "suite.Prob(50)"
   ]
  },
  {
   "cell_type": "markdown",
   "metadata": {},
   "source": [
    "The problem is that this 0.021, is almost **meaningless**. The decision to evaluate 101 hypotheses was arbitrary; we could have divided the range into more or fewer pieces, with the probability for any given hypothesis being greater or lower, respectively, depending on that chosen number."
   ]
  },
  {
   "cell_type": "markdown",
   "metadata": {},
   "source": [
    "### 3. Swamping the priors  <a id=\"swamp\"></a>"
   ]
  },
  {
   "cell_type": "code",
   "execution_count": null,
   "metadata": {},
   "outputs": [],
   "source": []
  },
  {
   "cell_type": "code",
   "execution_count": null,
   "metadata": {},
   "outputs": [],
   "source": []
  },
  {
   "cell_type": "code",
   "execution_count": null,
   "metadata": {},
   "outputs": [],
   "source": []
  },
  {
   "cell_type": "markdown",
   "metadata": {},
   "source": [
    "### 3. Optimization  <a id=\"opt\"></a>"
   ]
  },
  {
   "cell_type": "code",
   "execution_count": null,
   "metadata": {},
   "outputs": [],
   "source": []
  },
  {
   "cell_type": "code",
   "execution_count": null,
   "metadata": {},
   "outputs": [],
   "source": []
  },
  {
   "cell_type": "code",
   "execution_count": null,
   "metadata": {},
   "outputs": [],
   "source": []
  },
  {
   "cell_type": "code",
   "execution_count": null,
   "metadata": {},
   "outputs": [],
   "source": []
  },
  {
   "cell_type": "markdown",
   "metadata": {},
   "source": [
    "### 3. The Beta Distribution  <a id=\"beta\"></a>"
   ]
  },
  {
   "cell_type": "code",
   "execution_count": null,
   "metadata": {},
   "outputs": [],
   "source": []
  },
  {
   "cell_type": "code",
   "execution_count": null,
   "metadata": {},
   "outputs": [],
   "source": []
  },
  {
   "cell_type": "code",
   "execution_count": null,
   "metadata": {},
   "outputs": [],
   "source": []
  },
  {
   "cell_type": "code",
   "execution_count": null,
   "metadata": {},
   "outputs": [],
   "source": []
  }
 ],
 "metadata": {
  "kernelspec": {
   "display_name": "Python 3",
   "language": "python",
   "name": "python3"
  },
  "language_info": {
   "codemirror_mode": {
    "name": "ipython",
    "version": 3
   },
   "file_extension": ".py",
   "mimetype": "text/x-python",
   "name": "python",
   "nbconvert_exporter": "python",
   "pygments_lexer": "ipython3",
   "version": "3.7.4"
  }
 },
 "nbformat": 4,
 "nbformat_minor": 4
}
