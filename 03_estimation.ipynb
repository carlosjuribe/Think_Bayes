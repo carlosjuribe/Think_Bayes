{
 "cells": [
  {
   "cell_type": "markdown",
   "metadata": {},
   "source": [
    "# Chapter 3: Estimation\n",
    "---"
   ]
  },
  {
   "cell_type": "code",
   "execution_count": 1,
   "metadata": {},
   "outputs": [],
   "source": [
    "%load_ext autoreload\n",
    "%autoreload 2"
   ]
  },
  {
   "cell_type": "markdown",
   "metadata": {},
   "source": [
    "### The dice problem\n",
    "\n",
    "Suppose I have a box of dice that contains: \n",
    "- a 4-sided die\n",
    "- a 6-sided die\n",
    "- an 8-sided die\n",
    "- a 12-sided die\n",
    "- a 20-sided die\n",
    "\n",
    "Suppose I select a die from the box at random, roll it, and get a 6. What is the probability that I rolled each die?\n",
    "\n",
    "To answer that, we will follow this general strategy:\n",
    "1. Choose a representation for the hypotheses.\n",
    "2. Choose a representation for the data.\n",
    "3. Write the likelihood function."
   ]
  },
  {
   "cell_type": "code",
   "execution_count": 8,
   "metadata": {},
   "outputs": [],
   "source": [
    "# I will use the number i to represent the hypothesis that the die I took has i sides.\n",
    "# Thus I have a suite of 5 hypotheses, and I represent them like this:\n",
    "hypotheses = [4, 6, 8, 12, 20]\n",
    "\n",
    "# The possible outcomes (data I get when I roll the dice) are represented by integres from 1 to 20\n",
    "\n",
    "# I import the abstract type that I defined in notebook 2:\n",
    "from think_bayes_modified import Suite"
   ]
  },
  {
   "cell_type": "code",
   "execution_count": 23,
   "metadata": {},
   "outputs": [],
   "source": [
    "class Dice(Suite):\n",
    "    \"\"\"Represents hypotheses about which die was rolled.\"\"\"\n",
    "    def Likelihood(self, data, hypo):\n",
    "        \"\"\" \n",
    "        Computes the likelihood of the data under the hypothesis.\n",
    "        hypo: integer number of sides on the die\n",
    "        data: integer got when rolling the die \n",
    "        \"\"\"\n",
    "        if hypo < data:  # if the number of faces of dice < obtained number\n",
    "            return 0.0  # it is impossible\n",
    "        else:\n",
    "            return 1.0 / hypo  # uniform distribution of probab (fair dice)"
   ]
  },
  {
   "cell_type": "code",
   "execution_count": 24,
   "metadata": {},
   "outputs": [
    {
     "name": "stdout",
     "output_type": "stream",
     "text": [
      "Distribution of probabilites now: \n",
      "---------------------------------------------\n",
      "\n",
      "Hypothesis 4: 0.2000\n",
      "Hypothesis 6: 0.2000\n",
      "Hypothesis 8: 0.2000\n",
      "Hypothesis 12: 0.2000\n",
      "Hypothesis 20: 0.2000\n"
     ]
    }
   ],
   "source": [
    "suite = Dice(hypotheses)\n",
    "suite.Print()"
   ]
  },
  {
   "cell_type": "code",
   "execution_count": 25,
   "metadata": {},
   "outputs": [
    {
     "name": "stdout",
     "output_type": "stream",
     "text": [
      "Distribution of probabilites now: \n",
      "---------------------------------------------\n",
      "\n",
      "Hypothesis 4: 0.0000\n",
      "Hypothesis 6: 0.3922\n",
      "Hypothesis 8: 0.2941\n",
      "Hypothesis 12: 0.1961\n",
      "Hypothesis 20: 0.1176\n"
     ]
    }
   ],
   "source": [
    "# I roll the unknown die and get a 6. What do I think now?\n",
    "roll = 6\n",
    "\n",
    "suite.Update(roll)\n",
    "suite.Print()"
   ]
  },
  {
   "cell_type": "markdown",
   "metadata": {},
   "source": [
    "What if we roll a few more times and get 6, 8, 7, 7, 5, and 4?"
   ]
  },
  {
   "cell_type": "code",
   "execution_count": 26,
   "metadata": {},
   "outputs": [
    {
     "name": "stdout",
     "output_type": "stream",
     "text": [
      "Distribution of probabilites now: \n",
      "---------------------------------------------\n",
      "\n",
      "Hypothesis 4: 0.0000\n",
      "Hypothesis 6: 0.0000\n",
      "Hypothesis 8: 0.9432\n",
      "Hypothesis 12: 0.0552\n",
      "Hypothesis 20: 0.0015\n"
     ]
    }
   ],
   "source": [
    "observations = [6, 8, 7, 7, 5, 4]  # several rolls of the same, yet unkonwn die\n",
    "\n",
    "for obs in observations:\n",
    "    suite.Update(obs)\n",
    "    \n",
    "suite.Print()"
   ]
  },
  {
   "cell_type": "markdown",
   "metadata": {},
   "source": [
    "Now the probability (our degree of certainty) that we are rolling the 8-sided die is 94%, and less than 1% for the 20-sided die."
   ]
  },
  {
   "cell_type": "markdown",
   "metadata": {},
   "source": [
    "### The Locomotive Problem\n",
    "\n",
    "“A railroad numbers its locomotives in order 1..N. One day you see a locomotive with the number 60. Estimate how many locomotives the railroad has.”\n",
    "\n",
    "Based on this observation, we know the railroad has 60 or more locomotives. But how many more? To apply Bayesian reasoning, we can break this problem into two steps:\n",
    "\n",
    "1. What did we know about N before we saw the data? (**Prior distribution**)\n",
    "2. For any given value of N, what is the likelihood of seeing the data (a locomotive with number 60)? (**Likelihood distribution**)\n",
    "\n",
    "We don’t have much basis to choose a prior, but we can **start with something simple and then consider alternatives**. After all, due to our knowledge of the world we can estimate a reasonable upper limit for the number of trains that any realistic company could have. We assume this upper limit to be 1000 (but could have perfectly been 900 or 1200, this does not matter).\n",
    "\n",
    "Thus, let’s assume that N is equally likely to be any value from 1 to 1000. "
   ]
  },
  {
   "cell_type": "code",
   "execution_count": 27,
   "metadata": {},
   "outputs": [],
   "source": [
    "hypos = range(1, 1001)  # prior: We assume that there exist a maximum of N = 1000 trains"
   ]
  },
  {
   "cell_type": "markdown",
   "metadata": {},
   "source": [
    "In a hypothetical fleet of N locomotives, what is the probability that we would see number 60? If we **assume** that there is only one train-operating company and that we are equally likely to see any of its locomotives, then the chance of seeing any particular locomotive is 1/N."
   ]
  },
  {
   "cell_type": "code",
   "execution_count": 31,
   "metadata": {},
   "outputs": [],
   "source": [
    "import matplotlib.pyplot as plt"
   ]
  },
  {
   "cell_type": "code",
   "execution_count": 84,
   "metadata": {},
   "outputs": [],
   "source": [
    "class Train(Suite):\n",
    "    \"\"\" Suite for dealing with distribution for the Locomotive Problem \"\"\"\n",
    "    def Likelihood(self, data, hypo):\n",
    "        if hypo < data:\n",
    "            return 0.0  # impossible to see a train with number i if there are fewer than i trains\n",
    "        else:\n",
    "            return 1.0 / hypo  # Likelihood to find train i in a population of k trains (k > i)\n",
    "        \n",
    "    def PlotProb(self):\n",
    "        fig, ax = plt.subplots()\n",
    "        ax.plot(suite.GetDict().keys(), suite.GetDict().values())\n",
    "        ax.autoscale(tight=True)\n",
    "        ax.locator_params(nbins=3)    \n",
    "        ax.set_xlabel('hypotheses', fontsize=12)    \n",
    "        ax.set_ylabel('probability', fontsize=12)    \n",
    "        ax.set_title('Current probability distribution', fontsize=12)\n",
    "        return ax"
   ]
  },
  {
   "cell_type": "code",
   "execution_count": 89,
   "metadata": {},
   "outputs": [
    {
     "data": {
      "image/png": "[encoded data removed]",
      "text/plain": [
       "<Figure size 432x288 with 1 Axes>"
      ]
     },
     "metadata": {
      "needs_background": "light"
     },
     "output_type": "display_data"
    }
   ],
   "source": [
    "suite = Train(hypos)\n",
    "suite.PlotProb();"
   ]
  },
  {
   "cell_type": "code",
   "execution_count": 90,
   "metadata": {},
   "outputs": [
    {
     "data": {
      "image/png": "[encoded data removed]",
      "text/plain": [
       "<Figure size 432x288 with 1 Axes>"
      ]
     },
     "metadata": {
      "needs_background": "light"
     },
     "output_type": "display_data"
    }
   ],
   "source": [
    "obs = 60  # we observe a train with the number 60\n",
    "suite.Update(obs)\n",
    "suite.PlotProb();"
   ]
  },
  {
   "cell_type": "code",
   "execution_count": null,
   "metadata": {},
   "outputs": [],
   "source": []
  },
  {
   "cell_type": "code",
   "execution_count": null,
   "metadata": {},
   "outputs": [],
   "source": []
  },
  {
   "cell_type": "code",
   "execution_count": null,
   "metadata": {},
   "outputs": [],
   "source": []
  },
  {
   "cell_type": "code",
   "execution_count": null,
   "metadata": {},
   "outputs": [],
   "source": []
  },
  {
   "cell_type": "code",
   "execution_count": null,
   "metadata": {},
   "outputs": [],
   "source": []
  },
  {
   "cell_type": "code",
   "execution_count": null,
   "metadata": {},
   "outputs": [],
   "source": []
  },
  {
   "cell_type": "code",
   "execution_count": null,
   "metadata": {},
   "outputs": [],
   "source": []
  },
  {
   "cell_type": "code",
   "execution_count": null,
   "metadata": {},
   "outputs": [],
   "source": []
  },
  {
   "cell_type": "code",
   "execution_count": null,
   "metadata": {},
   "outputs": [],
   "source": []
  },
  {
   "cell_type": "code",
   "execution_count": null,
   "metadata": {},
   "outputs": [],
   "source": []
  },
  {
   "cell_type": "code",
   "execution_count": null,
   "metadata": {},
   "outputs": [],
   "source": []
  },
  {
   "cell_type": "code",
   "execution_count": null,
   "metadata": {},
   "outputs": [],
   "source": []
  },
  {
   "cell_type": "code",
   "execution_count": null,
   "metadata": {},
   "outputs": [],
   "source": []
  },
  {
   "cell_type": "code",
   "execution_count": null,
   "metadata": {},
   "outputs": [],
   "source": []
  },
  {
   "cell_type": "code",
   "execution_count": null,
   "metadata": {},
   "outputs": [],
   "source": []
  },
  {
   "cell_type": "code",
   "execution_count": null,
   "metadata": {},
   "outputs": [],
   "source": []
  },
  {
   "cell_type": "code",
   "execution_count": null,
   "metadata": {},
   "outputs": [],
   "source": []
  }
 ],
 "metadata": {
  "kernelspec": {
   "display_name": "Python 3",
   "language": "python",
   "name": "python3"
  },
  "language_info": {
   "codemirror_mode": {
    "name": "ipython",
    "version": 3
   },
   "file_extension": ".py",
   "mimetype": "text/x-python",
   "name": "python",
   "nbconvert_exporter": "python",
   "pygments_lexer": "ipython3",
   "version": "3.7.4"
  }
 },
 "nbformat": 4,
 "nbformat_minor": 4
}
